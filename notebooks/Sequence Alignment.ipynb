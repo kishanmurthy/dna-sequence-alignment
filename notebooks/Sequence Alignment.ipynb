{
 "cells": [
  {
   "cell_type": "code",
   "execution_count": 1,
   "id": "fbe965f9",
   "metadata": {},
   "outputs": [
    {
     "name": "stdout",
     "output_type": "stream",
     "text": [
      "ACACACTGACTACTGACTGGTGACTACTGACTGGACTGACTACTGACTGGTGACTACTGACTGG\n",
      "TATTATTATACGCTATTATACGCGACGCGGACGCGTATACGCTATTATACGCGACGCGGACGCG\n"
     ]
    }
   ],
   "source": [
    "X=''\n",
    "Y=''\n",
    "with open('basecase/input1.txt') as inputfile:\n",
    "    inputfile = inputfile.readlines()\n",
    "    X = inputfile[0].strip()\n",
    "\n",
    "    Y = ''\n",
    "    flag = 0\n",
    "    \n",
    "    for i in range(1,len(inputfile)):\n",
    "        val = inputfile[i].strip()\n",
    "        try:\n",
    "            val = int(val)\n",
    "            \n",
    "            if flag == 0:\n",
    "                X = X[:val+1] + X + X[val+1:]\n",
    "            else:\n",
    "                Y = Y[:val+1] + Y + Y[val+1:]\n",
    "        except:\n",
    "            Y = val\n",
    "            flag = 1\n",
    "            \n",
    "    print(X)\n",
    "    print(Y)"
   ]
  },
  {
   "cell_type": "code",
   "execution_count": null,
   "id": "6840280d",
   "metadata": {},
   "outputs": [],
   "source": []
  },
  {
   "cell_type": "code",
   "execution_count": 2,
   "id": "554bcc88",
   "metadata": {},
   "outputs": [],
   "source": [
    "alpha = [[0,110,48,94],[110,0,118,48],[48,118,0,110],[94,48,110,0]]\n",
    "delta = 30"
   ]
  },
  {
   "cell_type": "code",
   "execution_count": 3,
   "id": "8fbea225",
   "metadata": {},
   "outputs": [],
   "source": [
    "def convert_val(x):\n",
    "    if x == 'A':\n",
    "        return 0\n",
    "    elif x =='C':\n",
    "        return 1\n",
    "    elif x =='G':\n",
    "        return 2\n",
    "    elif x =='T':\n",
    "        return 3\n",
    "\n",
    "def alignment(X,Y):\n",
    "    m = len(X)\n",
    "    n = len(Y)\n",
    "    \n",
    "    A = [[0 for k in range(m)] for i in range(n)]\n",
    "    \n",
    "    for i in range(m):\n",
    "        A[i][0] = i*delta\n",
    "    for j in range(n):\n",
    "        A[0][j] = j*delta\n",
    "        \n",
    "    \n",
    "        \n",
    "    for j in range(n):\n",
    "        for i in range(m):\n",
    "            A[i][j] = min(alpha[convert_val(X[i])][convert_val(Y[j])] + A[i-1][j-1], delta + A[i-1][j], delta + A[i][j-1])\n",
    "    \n",
    "    i = m-1\n",
    "    j = n-1\n",
    "    X_Final = []\n",
    "    Y_Final = []\n",
    "    while(i > 0 and j > 0):\n",
    "        a = alpha[convert_val(X[i])][convert_val(Y[j])] +A[i-1][j-1]\n",
    "        b = delta + A[i][j-1]\n",
    "        c = delta + A[i-1][j]\n",
    "        smallest = 10000\n",
    "\n",
    "        if a <= b and a <= c :\n",
    "            smallest = a\n",
    "        if b <= a and b <= c :\n",
    "            smallest = b\n",
    "        if c <= a and c <= b :\n",
    "            smallest = c\n",
    "\n",
    "        if smallest  == a:\n",
    "            i = i-1\n",
    "            j = j-1\n",
    "            X_Final.append(X[i])\n",
    "            Y_Final.append(Y[i])\n",
    "            \n",
    "        elif smallest  == b:\n",
    "            i = i-1\n",
    "            j = j\n",
    "            X_Final.append('_')\n",
    "            Y_Final.append(Y[i])\n",
    "            \n",
    "        \n",
    "        elif smallest  == c:\n",
    "            i = i\n",
    "            j = j-1\n",
    "            X_Final.append(X[i])\n",
    "            Y_Final.append('_')\n",
    "\n",
    "\n",
    "    print(''.join(X_Final))\n",
    "    print(''.join(Y_Final))\n",
    "            \n",
    "            \n",
    "    return A[m-1][n-1]"
   ]
  },
  {
   "cell_type": "code",
   "execution_count": null,
   "id": "1c37bc40",
   "metadata": {},
   "outputs": [],
   "source": []
  },
  {
   "cell_type": "code",
   "execution_count": 9,
   "id": "1a546e3a",
   "metadata": {},
   "outputs": [
    {
     "name": "stdout",
     "output_type": "stream",
     "text": [
      "C_C_________GG_C_TA_T_TCG_C_TAATGG___C_A___GGC__GGCCGGGC_TAAT_TA_T_CGGGCC_T_TTAT__AA_\n",
      "GTCAGTCATCAGT_G_GTCAGTCATC_AGT_CA_GGT_C_AGTC_ATC__A_G__TGGT_CA_GT_C_A__T_CAGTCACAC__A\n"
     ]
    },
    {
     "data": {
      "text/plain": [
       "990"
      ]
     },
     "execution_count": 9,
     "metadata": {},
     "output_type": "execute_result"
    }
   ],
   "source": [
    "alignment(Y,X)"
   ]
  },
  {
   "cell_type": "code",
   "execution_count": null,
   "id": "2433371d",
   "metadata": {},
   "outputs": [],
   "source": []
  },
  {
   "cell_type": "code",
   "execution_count": 5,
   "id": "df8bc419",
   "metadata": {},
   "outputs": [],
   "source": [
    "m =5\n",
    "n=6"
   ]
  },
  {
   "cell_type": "code",
   "execution_count": 6,
   "id": "b662af8f",
   "metadata": {},
   "outputs": [
    {
     "data": {
      "text/plain": [
       "(5, 6)"
      ]
     },
     "execution_count": 6,
     "metadata": {},
     "output_type": "execute_result"
    }
   ],
   "source": [
    "A = [[0 for k in range(n)] for i in range(m)]\n",
    "import numpy as np\n",
    "np.shape(A)\n"
   ]
  },
  {
   "cell_type": "code",
   "execution_count": null,
   "id": "d097aba6",
   "metadata": {},
   "outputs": [],
   "source": []
  },
  {
   "cell_type": "code",
   "execution_count": null,
   "id": "079c3824-2359-46e8-ba2b-0faab73591de",
   "metadata": {},
   "outputs": [],
   "source": []
  }
 ],
 "metadata": {
  "kernelspec": {
   "display_name": "Python 3",
   "language": "python",
   "name": "python3"
  },
  "language_info": {
   "codemirror_mode": {
    "name": "ipython",
    "version": 3
   },
   "file_extension": ".py",
   "mimetype": "text/x-python",
   "name": "python",
   "nbconvert_exporter": "python",
   "pygments_lexer": "ipython3",
   "version": "3.8.8"
  }
 },
 "nbformat": 4,
 "nbformat_minor": 5
}
